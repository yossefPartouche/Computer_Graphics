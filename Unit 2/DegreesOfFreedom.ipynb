{
 "cells": [
  {
   "cell_type": "markdown",
   "id": "5c8a58e0",
   "metadata": {},
   "source": [
    "#### Objective:  \n",
    "To expand on notion of being able to reprsent objects (geometrically) using a single equation $f(x,y,z) = 0$\n",
    "\n",
    "In the previous topics we were able to define a line in 2D and a plan in 3D.   \n",
    "Question: How can we define a line in 3D?\n",
    "\n",
    "### Degrees of Freedom  \n",
    "This provides a way to determine the dimension of a solution to a set of equations given any/or no Constraint.\n",
    "\n",
    "For example if you have a point in 3D space you haven't paced any limitations, however if you produce an equation such as $f(x,y,z) = 0$  \n",
    "then you have limited this point to the plane in which the equation is satisfied (this can still be many \"options/solution\" but less thn no constraint).\n",
    "\n",
    "We formalise the notion as follows:  \n",
    "\n",
    "$Degrees \\ of \\ Freedom = dim(Space) - Num\\ Equations$  \n",
    "So with a point in 3D space with no constraints (no equations) has  \n",
    "$Degrees \\ of \\ Freedom = dim(\\R^3)$ - $0$\n",
    "\n",
    "Suppose now we constrain the space (3D) by two equations which also satisfy another but aren't parallel:  \n",
    "$a_1x + b_1y + c_1z + d_1 = 0$  \n",
    "$a_2x + b_2y + c_2z + d_2 = 0$  \n",
    "\n",
    "Note that the intersection of 2 planes in 3D produces a line. This is consistent with the definition of Degrees of freedom.  \n",
    "So we could represent a line in 3D using two equations which satisfy another.  \n",
    "\n",
    "Lets take this one step further.\n",
    "Suppose now we constrain the space (3D) by 3 equations which also satisfy another but aren't parallel:  \n",
    "$a_1x + b_1y + c_1z + d_1 = 0$  \n",
    "$a_2x + b_2y + c_2z + d_2 = 0$  \n",
    "$a_3x + b_3y + c_3z + d_3 = 0$\n",
    "\n",
    "The Degrees of Freedom is a single point however, this doesn't necessarily mean that only 1 point will exists. It only provides the dimension of the set of solutions.\n",
    "\n",
    "\n",
    " "
   ]
  },
  {
   "cell_type": "markdown",
   "id": "e7c7a0a0",
   "metadata": {},
   "source": [
    "### Degrees of Freedom with sphere and planes  \n",
    "Given a plane of equation: $a_1x + b_1y + c_1z + d_1 = 0$  \n",
    "and a sphere: $(x - x_0)^2 + (y - y_0)^2 + (z - z_0)^2 -r^2 = 0$  \n",
    "We can determine an upper bound for the degrees of freedom being less than or equal to 2:  \n",
    "- This means that either we have no solutions (they don't meet another).\n",
    "- They touch another (tangent point)\n",
    "- They intersect another forming a circle. \n",
    "\n",
    "### Point Classification\n",
    "\n",
    "#### Question:  \n",
    "How can we check if a given point lies on a given equation of an object?  \n",
    "#### Answer:  \n",
    "Substitute the cooridinates of a point into the equation of the object and check if the solution is satisfied.  \n",
    "#### Corrollary:  \n",
    "If the equation isn't satisfied i.e. > 0 or < 0 this means that the point lies on one side or the other side of the plane.  \n",
    "Applying the absolute will help us determine how far the point is from the object.\n"
   ]
  },
  {
   "cell_type": "markdown",
   "id": "eb4736b4",
   "metadata": {},
   "source": [
    "### Example  \n",
    "$x^2 + y^2 - 2 = 0$  \n",
    "$y  = 2x + 3$  \n",
    "We have a circle ($\\R^2$) we have a line ($\\R^2$) so: Degree of Freedom produces $Points$.\n",
    "\n",
    "### Points on line and on the circle\n",
    "$x^2 + (2x + 3)^2 - 2 = 0$   \n",
    "$5x^2 + 12x + 7 = 0$   \n",
    "$x_0 = -1 \\ \\ x_1 = -\\frac{7}{5}$\n",
    "\n",
    "### Points inside the circle\n",
    "\n",
    "$A = \\left\\{ (x, y) \\mid x^2 + y^2 < \\sqrt{2} \\right\\}$ which is all points s.t. $ x_1 < x < x_0 $\n",
    "\n",
    "### Points outside the circle\n",
    "$A' = \\left\\{ (x, y) \\mid x^2 + y^2 > \\sqrt{2} \\right\\}$ which is all points s.t. $ x_1 > x$  or $x > x_0 $\n",
    "\n",
    "#### Drawback of implicit Representation:  \n",
    "The ability to find a set of points that lie on the surface is very difficult using implicit equations as setting a perticular variable to some value doesn't necessarily povide more insights on the set of values that the other variables could obtain. - This is known as Enumeration. \n",
    "\n"
   ]
  }
 ],
 "metadata": {
  "language_info": {
   "name": "python"
  }
 },
 "nbformat": 4,
 "nbformat_minor": 5
}
