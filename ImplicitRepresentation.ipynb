{
 "cells": [
  {
   "cell_type": "markdown",
   "id": "e6bf3d92",
   "metadata": {},
   "source": [
    "## Implicit Representation  \n",
    "\n",
    "We've seen in chapter 2.1 that the geometric reprsentation of a physicall ball was a sphere which had the implicit formula: $(x - x_0)^2 + (y - y_0)^2 + (z - z_0)^2 - r^2 = 0$ "
   ]
  }
 ],
 "metadata": {
  "language_info": {
   "name": "python"
  }
 },
 "nbformat": 4,
 "nbformat_minor": 5
}
